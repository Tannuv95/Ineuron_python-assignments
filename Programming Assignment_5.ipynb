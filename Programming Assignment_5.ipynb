{
 "cells": [
  {
   "cell_type": "markdown",
   "id": "4ac9602a",
   "metadata": {},
   "source": [
    "## Python Basic Programming Assignment - 5\n",
    "--------------\n"
   ]
  },
  {
   "cell_type": "markdown",
   "id": "fdaeee06",
   "metadata": {},
   "source": [
    "### 1. Write a Python Program to Find LCM?"
   ]
  },
  {
   "cell_type": "code",
   "execution_count": 14,
   "id": "db7e5c9f-f1d8-47c0-9507-dcd55153c585",
   "metadata": {},
   "outputs": [
    {
     "name": "stdin",
     "output_type": "stream",
     "text": [
      "Enter the first number: 5\n",
      "Enter the second number: 6\n"
     ]
    },
    {
     "name": "stdout",
     "output_type": "stream",
     "text": [
      "lcm of 5,6 is: 30\n"
     ]
    }
   ],
   "source": [
    "a = int(input(\"Enter the first number:\"))\n",
    "b = int(input(\"Enter the second number:\"))\n",
    "\n",
    "\n",
    "if (a>b):\n",
    "    if b!=0:\n",
    "        if a%b==0:\n",
    "            lcm=a\n",
    "        else:\n",
    "            lcm=a*b\n",
    "        print(f\"lcm of {a},{b} is: {lcm}\")\n",
    "    else:\n",
    "        print(\"LCM cannot be found\")\n",
    "        \n",
    "elif (a<b):\n",
    "    if a!=0:\n",
    "        if b%a==0:\n",
    "            lcm=b\n",
    "        else:\n",
    "            lcm=a*b\n",
    "        print(f\"lcm of {a},{b} is: {lcm}\")\n",
    "    else:\n",
    "        print(\"LCM cannot be found\")\n",
    "\n"
   ]
  },
  {
   "cell_type": "markdown",
   "id": "2f459cdf",
   "metadata": {},
   "source": [
    "### 2. Write a Python Program to Find HCF?"
   ]
  },
  {
   "cell_type": "code",
   "execution_count": 21,
   "id": "db806fa8-58c2-4efa-9f41-509031468d6a",
   "metadata": {},
   "outputs": [
    {
     "name": "stdin",
     "output_type": "stream",
     "text": [
      "Enter the first number: 4\n",
      "Enter the second number: 8\n"
     ]
    },
    {
     "name": "stdout",
     "output_type": "stream",
     "text": [
      "The HCF of 4 and 8 is: 4\n"
     ]
    }
   ],
   "source": [
    "a = int(input(\"Enter the first number:\"))\n",
    "b = int(input(\"Enter the second number:\"))\n",
    "\n",
    "if a > b:\n",
    "    minmum = b\n",
    "else:\n",
    "    minimum = a\n",
    "\n",
    "hcf = 0\n",
    "\n",
    "# Iterate from 1 to the smaller number\n",
    "for i in range(1, minimum + 1):\n",
    "    if a % i == 0 and b % i == 0:\n",
    "        hcf = i\n",
    "\n",
    "print(\"The HCF of\", a, \"and\", b, \"is:\", hcf)"
   ]
  },
  {
   "cell_type": "markdown",
   "id": "d2c29370",
   "metadata": {},
   "source": [
    "### 3. Write a Python Program to Convert Decimal to Binary, Octal and Hexadecimal?"
   ]
  },
  {
   "cell_type": "code",
   "execution_count": 25,
   "id": "595abbfc-2de1-4954-ad28-a8f8f195a079",
   "metadata": {},
   "outputs": [
    {
     "name": "stdin",
     "output_type": "stream",
     "text": [
      "Enter a decimal number:  6\n"
     ]
    },
    {
     "name": "stdout",
     "output_type": "stream",
     "text": [
      "Decimal: 6\n",
      "Binary: 0b110\n",
      "Octal: 0o6\n",
      "Hexadecimal: 0x6\n"
     ]
    }
   ],
   "source": [
    "# Prompt the user to enter a decimal number\n",
    "decimal = int(input(\"Enter a decimal number: \"))\n",
    "\n",
    "# Convert decimal to binary\n",
    "binary = bin(decimal)\n",
    "\n",
    "# Convert decimal to octal\n",
    "octal = oct(decimal)\n",
    "\n",
    "# Convert decimal to hexadecimal\n",
    "hexadecimal = hex(decimal)\n",
    "\n",
    "print(\"Decimal:\", decimal)\n",
    "print(\"Binary:\", binary)\n",
    "print(\"Octal:\", octal)\n",
    "print(\"Hexadecimal:\", hexadecimal)"
   ]
  },
  {
   "cell_type": "markdown",
   "id": "2a16c5fd",
   "metadata": {},
   "source": [
    "### 4. Write a Python Program To Find ASCII value of a character?"
   ]
  },
  {
   "cell_type": "code",
   "execution_count": 26,
   "id": "df7552cb-fb17-453f-bccc-0beb194b4247",
   "metadata": {},
   "outputs": [
    {
     "name": "stdin",
     "output_type": "stream",
     "text": [
      "Enter a character:  y\n"
     ]
    },
    {
     "name": "stdout",
     "output_type": "stream",
     "text": [
      "Character: y\n",
      "ASCII Value: 121\n"
     ]
    }
   ],
   "source": [
    "# Prompt the user to enter a character\n",
    "char = input(\"Enter a character: \")\n",
    "\n",
    "# Convert the character to its ASCII value\n",
    "ascii_value = ord(char)\n",
    "\n",
    "print(\"Character:\", char)\n",
    "print(\"ASCII Value:\", ascii_value)"
   ]
  },
  {
   "cell_type": "markdown",
   "id": "226778a0",
   "metadata": {},
   "source": [
    "### 5. Write a Python Program to Make a Simple Calculator with 4 basic mathematical operations?"
   ]
  },
  {
   "cell_type": "code",
   "execution_count": 1,
   "id": "eba56be8-b34c-423d-965c-327859e3b6ca",
   "metadata": {},
   "outputs": [
    {
     "name": "stdin",
     "output_type": "stream",
     "text": [
      "Enter the first number:  8\n",
      "Enter the second number:  5\n"
     ]
    },
    {
     "name": "stdout",
     "output_type": "stream",
     "text": [
      "Choose the type of calculation\n",
      "1. Addition\n",
      "2. Subtraction\n",
      "3. Multiplication\n",
      "4. Division\n",
      "5. Exit\n"
     ]
    },
    {
     "name": "stdin",
     "output_type": "stream",
     "text": [
      "Enter choice:  1\n"
     ]
    },
    {
     "name": "stdout",
     "output_type": "stream",
     "text": [
      "8.0 + 5.0 = 13.0\n"
     ]
    },
    {
     "name": "stdin",
     "output_type": "stream",
     "text": [
      "Enter choice:  2\n"
     ]
    },
    {
     "name": "stdout",
     "output_type": "stream",
     "text": [
      "8.0 - 5.0 = 3.0\n"
     ]
    },
    {
     "name": "stdin",
     "output_type": "stream",
     "text": [
      "Enter choice:  3\n"
     ]
    },
    {
     "name": "stdout",
     "output_type": "stream",
     "text": [
      "8.0 * 5.0 = 40.0\n"
     ]
    },
    {
     "name": "stdin",
     "output_type": "stream",
     "text": [
      "Enter choice:  4\n"
     ]
    },
    {
     "name": "stdout",
     "output_type": "stream",
     "text": [
      "8.0 / 5.0 = 1.6\n"
     ]
    },
    {
     "name": "stdin",
     "output_type": "stream",
     "text": [
      "Enter choice:  7\n"
     ]
    },
    {
     "name": "stdout",
     "output_type": "stream",
     "text": [
      "Invalid input! Please enter a valid choice.\n"
     ]
    },
    {
     "name": "stdin",
     "output_type": "stream",
     "text": [
      "Enter choice:  5\n"
     ]
    },
    {
     "name": "stdout",
     "output_type": "stream",
     "text": [
      "Calculator program has ended.\n"
     ]
    }
   ],
   "source": [
    "a = float(input(\"Enter the first number: \"))\n",
    "b = float(input(\"Enter the second number: \"))\n",
    "\n",
    "print(\"Choose the type of calculation\")\n",
    "print(\"1. Addition\")\n",
    "print(\"2. Subtraction\")\n",
    "print(\"3. Multiplication\")\n",
    "print(\"4. Division\")\n",
    "print(\"5. Exit\")\n",
    "\n",
    "while True:\n",
    "    ch = int(input(\"Enter choice: \"))\n",
    "\n",
    "    if ch == 1:\n",
    "        result = a + b\n",
    "        print(a, \"+\", b, \"=\", result)\n",
    "    elif ch == 2:\n",
    "        result = a - b\n",
    "        print(a, \"-\", b, \"=\", result)\n",
    "    elif ch == 3:\n",
    "        result = a * b\n",
    "        print(a, \"*\", b, \"=\", result)\n",
    "    elif ch == 4:\n",
    "        if b != 0:\n",
    "            result = a / b\n",
    "            print(a, \"/\", b, \"=\", result)\n",
    "        else:\n",
    "            print(\"Error: Division by zero is not allowed.\")\n",
    "    elif ch == 5:\n",
    "        print(\"Calculator program has ended.\")\n",
    "        break\n",
    "    else:\n",
    "        print(\"Invalid input! Please enter a valid choice.\")\n",
    "        \n",
    "    \n",
    "    \n"
   ]
  }
 ],
 "metadata": {
  "kernelspec": {
   "display_name": "Python 3 (ipykernel)",
   "language": "python",
   "name": "python3"
  },
  "language_info": {
   "codemirror_mode": {
    "name": "ipython",
    "version": 3
   },
   "file_extension": ".py",
   "mimetype": "text/x-python",
   "name": "python",
   "nbconvert_exporter": "python",
   "pygments_lexer": "ipython3",
   "version": "3.10.6"
  }
 },
 "nbformat": 4,
 "nbformat_minor": 5
}
