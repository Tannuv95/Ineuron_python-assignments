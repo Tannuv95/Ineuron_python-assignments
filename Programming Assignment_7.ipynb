{
 "cells": [
  {
   "cell_type": "markdown",
   "id": "35297a20",
   "metadata": {},
   "source": [
    "## Programming Basic Assignment 7"
   ]
  },
  {
   "cell_type": "markdown",
   "id": "27349114",
   "metadata": {},
   "source": [
    "### 1. Write a Python Program to find sum of array?"
   ]
  },
  {
   "cell_type": "code",
   "execution_count": 6,
   "id": "b6d1a88a-f7be-455d-849a-6223a29127eb",
   "metadata": {},
   "outputs": [
    {
     "name": "stdout",
     "output_type": "stream",
     "text": [
      "sum of array is  135\n"
     ]
    }
   ],
   "source": [
    "arr=[9,2,4,76,8,4,32]\n",
    "sum=0\n",
    "for i in range(len(arr)):\n",
    "    sum+=arr[i]\n",
    "    \n",
    "print(\"sum of array is \",sum)"
   ]
  },
  {
   "cell_type": "markdown",
   "id": "171a980d",
   "metadata": {},
   "source": [
    "### 2. Write a Python Program to find largest element in an array?\n"
   ]
  },
  {
   "cell_type": "code",
   "execution_count": 7,
   "id": "0ad92d7d-da2a-4576-8503-90762bca5ec5",
   "metadata": {},
   "outputs": [
    {
     "name": "stdout",
     "output_type": "stream",
     "text": [
      "maximum of array is 76\n"
     ]
    }
   ],
   "source": [
    "maxi=arr[0]\n",
    "for i in range(len(arr)):\n",
    "    if arr[i]>maxi:\n",
    "        maxi=arr[i]\n",
    "    else:\n",
    "        continue\n",
    "\n",
    "print(\"maximum of array is\",maxi)"
   ]
  },
  {
   "cell_type": "markdown",
   "id": "21613246",
   "metadata": {},
   "source": [
    "### 3. Write a Python Program for array rotation?"
   ]
  },
  {
   "cell_type": "code",
   "execution_count": 8,
   "id": "ea631e5b-97ad-408c-8a8c-6f8910479412",
   "metadata": {},
   "outputs": [
    {
     "name": "stdout",
     "output_type": "stream",
     "text": [
      "Original array: [1, 2, 3, 4, 5]\n",
      "Rotated array: [4, 5, 1, 2, 3]\n"
     ]
    }
   ],
   "source": [
    "def rotate_array(arr, k):\n",
    "    \"\"\"\n",
    "    Rotate the array 'arr' by 'k' positions to the right.\n",
    "    \"\"\"\n",
    "    n = len(arr)\n",
    "    k = k % n  # Ensure k is within the range of the array size\n",
    "\n",
    "    # Rotate the array using three reverse operations\n",
    "    reverse(arr, 0, n - 1)\n",
    "    reverse(arr, 0, k - 1)\n",
    "    reverse(arr, k, n - 1)\n",
    "\n",
    "def reverse(arr, start, end):\n",
    "    \"\"\"\n",
    "    Reverse the subarray 'arr' from index 'start' to 'end'.\n",
    "    \"\"\"\n",
    "    while start < end:\n",
    "        arr[start], arr[end] = arr[end], arr[start]\n",
    "        start += 1\n",
    "        end -= 1\n",
    "\n",
    "# Example usage:\n",
    "arr = [1, 2, 3, 4, 5]\n",
    "k = 2\n",
    "print(\"Original array:\", arr)\n",
    "rotate_array(arr, k)\n",
    "print(\"Rotated array:\", arr)\n"
   ]
  },
  {
   "cell_type": "markdown",
   "id": "3e52d939",
   "metadata": {},
   "source": [
    "### 4. Write a Python Program to Split the array and add the first part to the end?"
   ]
  },
  {
   "cell_type": "code",
   "execution_count": 24,
   "id": "26111860-c82b-4100-99f2-01442f9f6943",
   "metadata": {},
   "outputs": [
    {
     "name": "stdout",
     "output_type": "stream",
     "text": [
      "Original array: [9, 2, 4, 76, 3, 8, 4, 32]\n",
      "The new array is: [3, 8, 4, 32, 9, 2, 4, 76]\n"
     ]
    }
   ],
   "source": [
    "arr = [9, 2, 4, 76,3,8, 4, 32]\n",
    "\n",
    "def split_array(arr):\n",
    "    n = len(arr)\n",
    "    k = n // 2\n",
    "    temp = []\n",
    "\n",
    "    for i in range(k):\n",
    "        temp.append(arr[i])\n",
    "\n",
    "    for i in range(k, n):\n",
    "        arr[i - k] = arr[i]\n",
    "\n",
    "    for i in range(k):\n",
    "        arr[n - k + i] = temp[i]\n",
    "\n",
    "print(\"Original array:\", arr)\n",
    "split_array(arr)\n",
    "print(\"The new array is:\",arr)\n"
   ]
  },
  {
   "cell_type": "markdown",
   "id": "aa375779",
   "metadata": {},
   "source": [
    "### 5. Write a Python Program to check if given array is Monotonic?"
   ]
  },
  {
   "cell_type": "code",
   "execution_count": 25,
   "id": "6c536c04-129b-4bd0-9bec-644ba50dc1cc",
   "metadata": {},
   "outputs": [
    {
     "name": "stdout",
     "output_type": "stream",
     "text": [
      "Is arr1 monotonic? True\n",
      "Is arr2 monotonic? True\n",
      "Is arr3 monotonic? True\n",
      "Is arr4 monotonic? False\n"
     ]
    }
   ],
   "source": [
    "def is_monotonic(arr):\n",
    "    \"\"\"\n",
    "    Check if the array 'arr' is monotonic (either entirely non-increasing or non-decreasing).\n",
    "    \"\"\"\n",
    "    n = len(arr)\n",
    "    if n <= 2:\n",
    "        return True  # Array with 0 or 1 element is always monotonic\n",
    "\n",
    "    is_non_increasing = True\n",
    "    is_non_decreasing = True\n",
    "\n",
    "    for i in range(1, n):\n",
    "        if arr[i] > arr[i - 1]:\n",
    "            is_non_increasing = False\n",
    "        if arr[i] < arr[i - 1]:\n",
    "            is_non_decreasing = False\n",
    "\n",
    "    return is_non_increasing or is_non_decreasing\n",
    "\n",
    "# Example usage:\n",
    "arr1 = [1, 2, 3, 4, 5]\n",
    "arr2 = [5, 4, 3, 2, 1]\n",
    "arr3 = [1, 2, 2, 3, 4]\n",
    "arr4 = [1, 3, 2, 4, 5]\n",
    "\n",
    "print(\"Is arr1 monotonic?\", is_monotonic(arr1))\n",
    "print(\"Is arr2 monotonic?\", is_monotonic(arr2))\n",
    "print(\"Is arr3 monotonic?\", is_monotonic(arr3))\n",
    "print(\"Is arr4 monotonic?\", is_monotonic(arr4))\n"
   ]
  }
 ],
 "metadata": {
  "kernelspec": {
   "display_name": "Python 3 (ipykernel)",
   "language": "python",
   "name": "python3"
  },
  "language_info": {
   "codemirror_mode": {
    "name": "ipython",
    "version": 3
   },
   "file_extension": ".py",
   "mimetype": "text/x-python",
   "name": "python",
   "nbconvert_exporter": "python",
   "pygments_lexer": "ipython3",
   "version": "3.10.6"
  }
 },
 "nbformat": 4,
 "nbformat_minor": 5
}
