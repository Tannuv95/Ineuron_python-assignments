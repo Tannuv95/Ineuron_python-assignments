{
 "cells": [
  {
   "cell_type": "markdown",
   "id": "84a41a9f",
   "metadata": {},
   "source": [
    "# Programming Basic Assignment 6"
   ]
  },
  {
   "cell_type": "markdown",
   "id": "a4b40558",
   "metadata": {},
   "source": [
    "### 1. Write a Python Program to Display Fibonacci Sequence Using Recursion?"
   ]
  },
  {
   "cell_type": "code",
   "execution_count": 1,
   "id": "73109209-845e-4c2d-8981-309f2604146d",
   "metadata": {},
   "outputs": [
    {
     "name": "stdin",
     "output_type": "stream",
     "text": [
      "Enter the number of terms:  6\n"
     ]
    },
    {
     "name": "stdout",
     "output_type": "stream",
     "text": [
      "Fibonacci Sequence:\n",
      "0\n",
      "1\n",
      "1\n",
      "2\n",
      "3\n",
      "5\n"
     ]
    }
   ],
   "source": [
    "def fibonacci(n):\n",
    "    if n <= 1:\n",
    "        return n\n",
    "    else:\n",
    "        return fibonacci(n - 1) + fibonacci(n - 2)\n",
    "\n",
    "# Prompt the user to enter the number of terms in the Fibonacci sequence\n",
    "num_terms = int(input(\"Enter the number of terms: \"))\n",
    "\n",
    "# Check if the number of terms is valid\n",
    "if num_terms <= 0:\n",
    "    print(\"Number of terms should be positive.\")\n",
    "else:\n",
    "    print(\"Fibonacci Sequence:\")\n",
    "    for i in range(num_terms):\n",
    "        print(fibonacci(i))"
   ]
  },
  {
   "cell_type": "markdown",
   "id": "d7a57f60",
   "metadata": {},
   "source": [
    "### 2. Write a Python Program to Find Factorial of Number Using Recursion?"
   ]
  },
  {
   "cell_type": "code",
   "execution_count": 7,
   "id": "3bc72d70-0608-4272-bf31-7491575215fd",
   "metadata": {},
   "outputs": [
    {
     "name": "stdin",
     "output_type": "stream",
     "text": [
      "Enter the number:  5\n"
     ]
    },
    {
     "name": "stdout",
     "output_type": "stream",
     "text": [
      "Factorial of 5 is 120\n"
     ]
    }
   ],
   "source": [
    "def factorial(n):\n",
    "    if n == 0:\n",
    "        return 1\n",
    "    else:\n",
    "        return n * factorial(n-1)\n",
    "    \n",
    "num = int(input(\"Enter the number: \"))\n",
    "\n",
    "fact = factorial(num)\n",
    "print(\"Factorial of\", num, \"is\", fact)"
   ]
  },
  {
   "cell_type": "markdown",
   "id": "0357b86f",
   "metadata": {},
   "source": [
    "### 3. Write a Python Program to calculate your Body Mass Index?"
   ]
  },
  {
   "cell_type": "code",
   "execution_count": 20,
   "id": "e80e3c0a-a2b4-4b8b-8925-09ca9b6c30c4",
   "metadata": {},
   "outputs": [
    {
     "name": "stdin",
     "output_type": "stream",
     "text": [
      "Enter your weight in kilograms:  40\n",
      "Enter your height in meters:  1.6\n"
     ]
    },
    {
     "name": "stdout",
     "output_type": "stream",
     "text": [
      "Your Body Mass Index (BMI) is: 15.624999999999996\n",
      "You are underweight\n"
     ]
    }
   ],
   "source": [
    "# Prompt the user to enter their weight in kilograms\n",
    "weight = float(input(\"Enter your weight in kilograms: \"))\n",
    "\n",
    "# Prompt the user to enter their height in meters\n",
    "height = float(input(\"Enter your height in meters: \"))\n",
    "\n",
    "# Calculate the BMI using the formula: BMI = weight / (height * height)\n",
    "bmi = weight / (height * height)\n",
    "\n",
    "# Print the calculated BMI\n",
    "print(\"Your Body Mass Index (BMI) is:\", bmi)\n",
    "\n",
    "if bmi < 18.5:\n",
    "    print('You are underweight')\n",
    "if bmi>=18.5 and x<25:\n",
    "    print(\"You are normal\")\n",
    "if bmi >= 25 and x < 30:\n",
    "    print('You are overweight')\n",
    "if bmi >= 30:\n",
    "    print('You are obesity')"
   ]
  },
  {
   "cell_type": "markdown",
   "id": "96d344a4",
   "metadata": {},
   "source": [
    "### 4. Write a Python Program to calculate the natural logarithm of any number?"
   ]
  },
  {
   "cell_type": "code",
   "execution_count": 21,
   "id": "eac3e1f5-1a2e-44f3-9119-b08ae0b7e906",
   "metadata": {},
   "outputs": [
    {
     "name": "stdin",
     "output_type": "stream",
     "text": [
      "Enter a number:  2\n"
     ]
    },
    {
     "name": "stdout",
     "output_type": "stream",
     "text": [
      "Natural Logarithm of 2.0 is: 0.6931471805599453\n"
     ]
    }
   ],
   "source": [
    "import math\n",
    "\n",
    "# Prompt the user to enter a number\n",
    "number = float(input(\"Enter a number: \"))\n",
    "\n",
    "# Calculate the natural logarithm using the math.log() function\n",
    "log_value = math.log(number)\n",
    "\n",
    "# Print the calculated natural logarithm\n",
    "print(\"Natural Logarithm of\", number, \"is:\", log_value)\n"
   ]
  },
  {
   "cell_type": "markdown",
   "id": "11c0d92c",
   "metadata": {},
   "source": [
    "\n",
    "### 5. Write a Python Program for cube sum of first n natural numbers?\n"
   ]
  },
  {
   "cell_type": "code",
   "execution_count": 15,
   "id": "ba0d3a59-0bc0-4a5b-b489-908c7df0b9e7",
   "metadata": {},
   "outputs": [
    {
     "name": "stdin",
     "output_type": "stream",
     "text": [
      "Enter number of terms: 5\n"
     ]
    },
    {
     "name": "stdout",
     "output_type": "stream",
     "text": [
      "Sum of cubes of first 5 natural numbers is :225\n"
     ]
    }
   ],
   "source": [
    "num=int(input(\"Enter number of terms:\"))\n",
    "\n",
    "sum=0\n",
    "\n",
    "for i in range(num+1):\n",
    "    sum+=pow(i,3)\n",
    "\n",
    "print(f\"Sum of cubes of first {num} natural numbers is :{sum}\")\n"
   ]
  },
  {
   "cell_type": "code",
   "execution_count": null,
   "id": "99b52e85-57fa-47ac-accc-0259a1da4cce",
   "metadata": {},
   "outputs": [],
   "source": []
  }
 ],
 "metadata": {
  "kernelspec": {
   "display_name": "Python 3 (ipykernel)",
   "language": "python",
   "name": "python3"
  },
  "language_info": {
   "codemirror_mode": {
    "name": "ipython",
    "version": 3
   },
   "file_extension": ".py",
   "mimetype": "text/x-python",
   "name": "python",
   "nbconvert_exporter": "python",
   "pygments_lexer": "ipython3",
   "version": "3.10.6"
  }
 },
 "nbformat": 4,
 "nbformat_minor": 5
}
