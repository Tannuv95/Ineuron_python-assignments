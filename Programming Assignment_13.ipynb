{
 "cells": [
  {
   "cell_type": "markdown",
   "id": "62fd0c8e",
   "metadata": {},
   "source": [
    "# Python Programming Basic Assignment 13"
   ]
  },
  {
   "cell_type": "markdown",
   "id": "ed4a3c0b",
   "metadata": {},
   "source": [
    "\n",
    "### 1. Write a program that calculates and prints the value according to the given formula:\n",
    "Q = Square root of [(2 C D)/H]\n",
    "\n",
    "Following are the fixed values of C and H:\n",
    "\n",
    "C is 50. H is 30.\n",
    "\n",
    "D is the variable whose values should be input to your program in a comma-separated sequence.\n",
    "\n",
    "Example\n",
    "\n",
    "Let us assume the following comma separated input sequence is given to the program:\n",
    "\n",
    "100,150,180\n",
    "\n",
    "The output of the program should be:\n",
    "\n",
    "18,22,24"
   ]
  },
  {
   "cell_type": "code",
   "execution_count": 14,
   "id": "4da41d12-945a-4889-b072-81e503dc0d94",
   "metadata": {},
   "outputs": [
    {
     "name": "stdin",
     "output_type": "stream",
     "text": [
      "Enter comma-separated values for D:  100,150,180\n"
     ]
    },
    {
     "name": "stdout",
     "output_type": "stream",
     "text": [
      "The output of the program is: 18,22,24\n"
     ]
    }
   ],
   "source": [
    "import numpy as np\n",
    "\n",
    "C = 50\n",
    "H = 30\n",
    "\n",
    "input_sequence = input(\"Enter comma-separated values for D: \")\n",
    "D_list = input_sequence.split(',')\n",
    "\n",
    "result_list = []\n",
    "\n",
    "for D in D_list:\n",
    "    Q = np.sqrt((2 * C * int(D)) / H)\n",
    "    result_list.append(str(round(Q)))\n",
    "\n",
    "output = ','.join(result_list)\n",
    "print(\"The output of the program is:\", output)\n"
   ]
  },
  {
   "cell_type": "markdown",
   "id": "ed37b6ed",
   "metadata": {},
   "source": [
    "### 2. Write a program which takes 2 digits, X,Y as input and generates a 2-dimensional array. The element value in the i-th row and j-th column of the array should be i*j."
   ]
  },
  {
   "cell_type": "code",
   "execution_count": 21,
   "id": "2ecdd642-d330-481a-9538-9c10d1ddf770",
   "metadata": {},
   "outputs": [
    {
     "name": "stdin",
     "output_type": "stream",
     "text": [
      "Enter value of X: 2\n",
      "Enter value of Y: 3\n"
     ]
    },
    {
     "name": "stdout",
     "output_type": "stream",
     "text": [
      "2-D array\n",
      "[[0 0 0]\n",
      " [0 1 2]]\n"
     ]
    }
   ],
   "source": [
    "X=int(input(\"Enter value of X:\"))\n",
    "Y=int(input(\"Enter value of Y:\"))\n",
    "arr = np.zeros((X, Y), dtype=int)\n",
    "for i in range(X):\n",
    "    for j in range(Y):\n",
    "        arr[i][j]=i*j\n",
    "print(\"2-D array\")\n",
    "print(arr)"
   ]
  },
  {
   "cell_type": "markdown",
   "id": "bc7f977b",
   "metadata": {},
   "source": [
    "### 3. Write a program that accepts a comma separated sequence of words as input and prints the words in a comma-separated sequence after sorting them alphabetically."
   ]
  },
  {
   "cell_type": "code",
   "execution_count": 16,
   "id": "f6963380-7c0e-4519-a76e-3c32bf90626b",
   "metadata": {},
   "outputs": [
    {
     "name": "stdin",
     "output_type": "stream",
     "text": [
      "Enter comma-separated words:  India,Japan,USA,Korea,China,Bhutan,Bangladesh,Sri Lanka\n"
     ]
    },
    {
     "name": "stdout",
     "output_type": "stream",
     "text": [
      "Sorted sequence Bangladesh,Bhutan,China,India,Japan,Korea,Sri Lanka,USA\n"
     ]
    }
   ],
   "source": [
    "seq = input(\"Enter comma-separated words: \")\n",
    "words=seq.split(',')\n",
    "sorted_words=sorted(words)\n",
    "sorted_seq=','.join(sorted_words)\n",
    "print(\"Sorted sequence\",sorted_seq)"
   ]
  },
  {
   "cell_type": "markdown",
   "id": "171c3d90",
   "metadata": {},
   "source": [
    "### 4. Write a program that accepts a sequence of whitespace separated words as input and prints the words after removing all duplicate words and sorting them alphanumerically."
   ]
  },
  {
   "cell_type": "code",
   "execution_count": 30,
   "id": "d56606ea-6f39-4a00-8f2a-178522c5b769",
   "metadata": {},
   "outputs": [
    {
     "name": "stdin",
     "output_type": "stream",
     "text": [
      "Enter white space-separated words:  apple orange banana apple apple orange\n"
     ]
    },
    {
     "name": "stdout",
     "output_type": "stream",
     "text": [
      "Sequence after removing duplicates and sorting: apple banana orange\n"
     ]
    }
   ],
   "source": [
    "seq1= input(\"Enter white space-separated words: \")\n",
    "word=set(seq1.split(\" \"))\n",
    "word=sorted(word)\n",
    "sorted_word=' '.join(word)\n",
    "print(\"Sequence after removing duplicates and sorting:\",sorted_word)\n",
    "\n",
    "\n"
   ]
  },
  {
   "cell_type": "markdown",
   "id": "88d25c49",
   "metadata": {},
   "source": [
    "### 5. Write a program that accepts a sentence and calculate the number of letters and digits."
   ]
  },
  {
   "cell_type": "code",
   "execution_count": 33,
   "id": "5b5f3ae0-17cc-4469-90b6-2e054a079627",
   "metadata": {},
   "outputs": [
    {
     "name": "stdin",
     "output_type": "stream",
     "text": [
      "Enter a sentence mix of letters and digits: I have 3 apples and 2 oranges, but my friend has 5 bananas.\n"
     ]
    },
    {
     "name": "stdout",
     "output_type": "stream",
     "text": [
      "Number of letters and digits in given sentence are 42 and 3 respectively\n"
     ]
    }
   ],
   "source": [
    "input_seq=input(\"Enter a sentence mix of letters and digits:\")\n",
    "al_count=0\n",
    "num_count=0\n",
    "for ch in input_seq:\n",
    "    if ch.isdigit():\n",
    "        num_count+=1 \n",
    "    elif ch.isalpha():\n",
    "        al_count+=1\n",
    "print(f'Number of letters and digits in given sentence are {al_count} and {num_count} respectively')\n",
    "\n",
    "\n",
    "    "
   ]
  },
  {
   "cell_type": "markdown",
   "id": "9695c4ca",
   "metadata": {},
   "source": [
    "### 6. A website requires the users to input username and password to register. Write a program to check the validity of password input by users."
   ]
  },
  {
   "cell_type": "code",
   "execution_count": 36,
   "id": "2a738392-829a-4b0e-9650-92a3b9c37213",
   "metadata": {},
   "outputs": [
    {
     "name": "stdin",
     "output_type": "stream",
     "text": [
      "Enter your username:  tannu verma\n",
      "Enter your password:  Test@789\n"
     ]
    },
    {
     "name": "stdout",
     "output_type": "stream",
     "text": [
      "Password is valid.\n"
     ]
    }
   ],
   "source": [
    "import re\n",
    "\n",
    "def validate_password(password):\n",
    "    # Password length should be between 6 and 16 characters\n",
    "    if len(password) < 6 or len(password) > 16:\n",
    "        return False\n",
    "\n",
    "    # Password should contain at least one uppercase letter\n",
    "    if not re.search(r'[A-Z]', password):\n",
    "        return False\n",
    "\n",
    "    # Password should contain at least one lowercase letter\n",
    "    if not re.search(r'[a-z]', password):\n",
    "        return False\n",
    "\n",
    "    # Password should contain at least one digit\n",
    "    if not re.search(r'\\d', password):\n",
    "        return False\n",
    "\n",
    "    # Password should contain at least one special character\n",
    "    if not re.search(r'[!@#$%^&*()-=_+{};:,.<>?]', password):\n",
    "        return False\n",
    "\n",
    "    # Password is valid\n",
    "    return True\n",
    "\n",
    "# Main program\n",
    "username = input(\"Enter your username: \")\n",
    "password = input(\"Enter your password: \")\n",
    "\n",
    "if validate_password(password):\n",
    "    print(\"Password is valid.\")\n",
    "else:\n",
    "    print(\"Password is invalid.\")\n"
   ]
  },
  {
   "cell_type": "code",
   "execution_count": null,
   "id": "cc18eb5a-7c42-4235-8cac-c5bc08667acb",
   "metadata": {},
   "outputs": [],
   "source": []
  }
 ],
 "metadata": {
  "kernelspec": {
   "display_name": "Python 3 (ipykernel)",
   "language": "python",
   "name": "python3"
  },
  "language_info": {
   "codemirror_mode": {
    "name": "ipython",
    "version": 3
   },
   "file_extension": ".py",
   "mimetype": "text/x-python",
   "name": "python",
   "nbconvert_exporter": "python",
   "pygments_lexer": "ipython3",
   "version": "3.10.6"
  }
 },
 "nbformat": 4,
 "nbformat_minor": 5
}
