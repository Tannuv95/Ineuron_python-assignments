{
 "cells": [
  {
   "cell_type": "markdown",
   "id": "3dcb940f",
   "metadata": {},
   "source": [
    "## Python Basic Programming Assignment 10"
   ]
  },
  {
   "cell_type": "markdown",
   "id": "6720790a",
   "metadata": {},
   "source": [
    "### 1. Write a Python program to find sum of elements in list?"
   ]
  },
  {
   "cell_type": "code",
   "execution_count": 7,
   "id": "a75ca9a7-58ca-4ae9-9f29-e7e04c5baf05",
   "metadata": {},
   "outputs": [
    {
     "data": {
      "text/plain": [
       "32"
      ]
     },
     "execution_count": 7,
     "metadata": {},
     "output_type": "execute_result"
    }
   ],
   "source": [
    "from functools import reduce\n",
    "l=[4,9,6,7,4,2]\n",
    "reduce(lambda x,y:x+y,l)"
   ]
  },
  {
   "cell_type": "markdown",
   "id": "fe1137c3",
   "metadata": {},
   "source": [
    "### 2. Write a Python program to  Multiply all numbers in the list?"
   ]
  },
  {
   "cell_type": "code",
   "execution_count": 8,
   "id": "14c56872-6215-4ab5-8b87-eb1ef9f08bcd",
   "metadata": {},
   "outputs": [
    {
     "data": {
      "text/plain": [
       "12096"
      ]
     },
     "execution_count": 8,
     "metadata": {},
     "output_type": "execute_result"
    }
   ],
   "source": [
    "reduce(lambda x,y:x*y,l)"
   ]
  },
  {
   "cell_type": "markdown",
   "id": "078681db",
   "metadata": {},
   "source": [
    "### 3. Write a Python program to find smallest number in a list?"
   ]
  },
  {
   "cell_type": "code",
   "execution_count": 9,
   "id": "8c06234f-96e5-4b59-83bd-f9fd42a326b7",
   "metadata": {},
   "outputs": [
    {
     "name": "stdout",
     "output_type": "stream",
     "text": [
      "Smallest element of list is: 2\n"
     ]
    }
   ],
   "source": [
    "mini=l[0]\n",
    "for i in range(len(l)):\n",
    "    if mini>l[i]:\n",
    "        mini=l[i]\n",
    "print(\"Smallest element of list is:\",mini)\n",
    "        "
   ]
  },
  {
   "cell_type": "markdown",
   "id": "12b04397",
   "metadata": {},
   "source": [
    "### 4. Write a Python program to find largest number in a list?"
   ]
  },
  {
   "cell_type": "code",
   "execution_count": 10,
   "id": "aa6cc448-8ca4-413d-a4cf-76799d9c65f2",
   "metadata": {},
   "outputs": [
    {
     "name": "stdout",
     "output_type": "stream",
     "text": [
      "Largest element of list is: 9\n"
     ]
    }
   ],
   "source": [
    "maxi=l[0]\n",
    "for i in range(len(l)):\n",
    "    if maxi<l[i]:\n",
    "        maxi=l[i]\n",
    "print(\"Largest element of list is:\",maxi)"
   ]
  },
  {
   "cell_type": "markdown",
   "id": "86442b51",
   "metadata": {},
   "source": [
    "### 5. Write a Python program to find second largest number in a list?"
   ]
  },
  {
   "cell_type": "code",
   "execution_count": 18,
   "id": "0fe3e6a7-e544-41e0-8cac-79a3b31f0a8d",
   "metadata": {},
   "outputs": [
    {
     "name": "stdout",
     "output_type": "stream",
     "text": [
      "Largest element of list is: 7\n"
     ]
    }
   ],
   "source": [
    "l=[4,9,6,7,4,2]\n",
    "largest=l[0]\n",
    "second_largest=l[1]\n",
    "for num in l:\n",
    "    if largest<num:\n",
    "        second_largest=largest\n",
    "        largest=num\n",
    "    elif num > second_largest and num != largest:\n",
    "        second_largest = num\n",
    "print(\"Largest element of list is:\",second_largest)"
   ]
  },
  {
   "cell_type": "markdown",
   "id": "10964d7d",
   "metadata": {},
   "source": [
    "### 6. Write a Python program to find N largest elements from a list?"
   ]
  },
  {
   "cell_type": "code",
   "execution_count": 19,
   "id": "593db9e6-f914-4ecd-8ecb-4ece0abc74a0",
   "metadata": {},
   "outputs": [
    {
     "name": "stdout",
     "output_type": "stream",
     "text": [
      "The 3 largest elements in the list are: [10, 9, 8]\n"
     ]
    }
   ],
   "source": [
    "def find_n_largest(numbers, n):\n",
    "    if n > len(numbers):\n",
    "        return \"N cannot be greater than the length of the list.\"\n",
    "\n",
    "    sorted_numbers = sorted(numbers, reverse=True)\n",
    "    n_largest = sorted_numbers[:n]\n",
    "    return n_largest\n",
    "\n",
    "# Example usage\n",
    "num_list = [10, 5, 7, 2, 8, 3, 9, 1]\n",
    "n = 3\n",
    "n_largest_elements = find_n_largest(num_list, n)\n",
    "print(f\"The {n} largest elements in the list are: {n_largest_elements}\")\n"
   ]
  },
  {
   "cell_type": "markdown",
   "id": "2f1a1e98",
   "metadata": {},
   "source": [
    "### 7. Write a Python program to print even numbers in a list?"
   ]
  },
  {
   "cell_type": "code",
   "execution_count": 20,
   "id": "5c6d5174-3717-4757-9136-f3f204935c95",
   "metadata": {},
   "outputs": [
    {
     "data": {
      "text/plain": [
       "[6, 4, 2]"
      ]
     },
     "execution_count": 20,
     "metadata": {},
     "output_type": "execute_result"
    }
   ],
   "source": [
    "list_test=[3,9,7,6,4,9,7,2,5,1]\n",
    "a=list(filter(lambda x:x%2==0,list_test))\n",
    "a"
   ]
  },
  {
   "cell_type": "markdown",
   "id": "989bb324",
   "metadata": {},
   "source": [
    "### 8. Write a Python program to print odd numbers in a List?"
   ]
  },
  {
   "cell_type": "code",
   "execution_count": 21,
   "id": "2aa4cc7d-935c-4f8a-89dc-0a01c6c96438",
   "metadata": {},
   "outputs": [
    {
     "data": {
      "text/plain": [
       "[3, 9, 7, 9, 7, 5, 1]"
      ]
     },
     "execution_count": 21,
     "metadata": {},
     "output_type": "execute_result"
    }
   ],
   "source": [
    "b=list(filter(lambda x:x%2!=0,list_test))\n",
    "b"
   ]
  },
  {
   "cell_type": "markdown",
   "id": "185b7b13",
   "metadata": {},
   "source": [
    "### 9. Write a Python program to Remove empty List from List?"
   ]
  },
  {
   "cell_type": "code",
   "execution_count": 28,
   "id": "43d7653e-913d-4467-bbd9-0b86dfa85ac7",
   "metadata": {},
   "outputs": [
    {
     "data": {
      "text/plain": [
       "[1, 8, 0, [3, 4], [5, 6]]"
      ]
     },
     "execution_count": 28,
     "metadata": {},
     "output_type": "execute_result"
    }
   ],
   "source": [
    "nested_list = [1,8,0, [], [3, 4], [], [], [5, 6]]\n",
    "list(filter(lambda x: x or x == 0, nested_list))"
   ]
  },
  {
   "cell_type": "markdown",
   "id": "278cfacc",
   "metadata": {},
   "source": [
    "### 10. Write a Python program to Cloning or Copying a list?"
   ]
  },
  {
   "cell_type": "code",
   "execution_count": 31,
   "id": "26543605-e963-42d9-b04e-e080f919185c",
   "metadata": {},
   "outputs": [
    {
     "name": "stdout",
     "output_type": "stream",
     "text": [
      "Original list: [1, 8, 9, 5, 6, 7, 9, 4, 0]\n",
      "Cloned list: [1, 8, 9, 5, 6, 7, 9, 4, 0]\n"
     ]
    }
   ],
   "source": [
    "list1=[1,8,9,5,6,7,9,4,0]\n",
    "list2=[]\n",
    "#copying the list1 into list 2\n",
    "list2=list1.copy()\n",
    "print(\"Original list:\",list1)\n",
    "print(\"Cloned list:\", list2)\n"
   ]
  },
  {
   "cell_type": "markdown",
   "id": "b359bedf",
   "metadata": {},
   "source": [
    "### 11. Write a Python program to Count occurrences of an element in a list?"
   ]
  },
  {
   "cell_type": "code",
   "execution_count": 33,
   "id": "301e1cb0-5268-40d7-b216-76f0f17788d3",
   "metadata": {},
   "outputs": [
    {
     "name": "stdout",
     "output_type": "stream",
     "text": [
      "Number of times 1 repeated in list_1 is 1\n",
      "Number of times 8 repeated in list_1 is 1\n",
      "Number of times 9 repeated in list_1 is 2\n",
      "Number of times 5 repeated in list_1 is 1\n",
      "Number of times 6 repeated in list_1 is 1\n",
      "Number of times 7 repeated in list_1 is 1\n",
      "Number of times 9 repeated in list_1 is 2\n",
      "Number of times 4 repeated in list_1 is 1\n",
      "Number of times 0 repeated in list_1 is 1\n"
     ]
    }
   ],
   "source": [
    "#count no of occurrences of an element in list\n",
    "list_1=[1,8,9,5,6,7,9,4,0]\n",
    "\n",
    "for i in list_1:\n",
    "    print(f\"Number of times {i} repeated in list_1 is\" ,list_1.count(i))\n",
    "\n",
    "\n",
    "\n"
   ]
  },
  {
   "cell_type": "code",
   "execution_count": null,
   "id": "d0994576-54c7-422d-ba14-e11d010e4074",
   "metadata": {},
   "outputs": [],
   "source": []
  }
 ],
 "metadata": {
  "kernelspec": {
   "display_name": "Python 3 (ipykernel)",
   "language": "python",
   "name": "python3"
  },
  "language_info": {
   "codemirror_mode": {
    "name": "ipython",
    "version": 3
   },
   "file_extension": ".py",
   "mimetype": "text/x-python",
   "name": "python",
   "nbconvert_exporter": "python",
   "pygments_lexer": "ipython3",
   "version": "3.10.6"
  }
 },
 "nbformat": 4,
 "nbformat_minor": 5
}
