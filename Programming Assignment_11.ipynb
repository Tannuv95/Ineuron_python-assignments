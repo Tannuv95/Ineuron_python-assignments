{
 "cells": [
  {
   "cell_type": "markdown",
   "id": "53c7e882",
   "metadata": {},
   "source": [
    "# Python Basic Programming Assignment 11\n",
    "--------------------"
   ]
  },
  {
   "cell_type": "markdown",
   "id": "051da140",
   "metadata": {},
   "source": [
    "### 1. Write a Python program to find words which are greater than given length k?"
   ]
  },
  {
   "cell_type": "code",
   "execution_count": 3,
   "id": "5eb99797-2448-4686-9ce1-827ccb36afa3",
   "metadata": {},
   "outputs": [
    {
     "name": "stdin",
     "output_type": "stream",
     "text": [
      "Enter a sentence:  The quick brown fox jumps over the lazy dog\n",
      "Enter the minimum length (k):  4\n"
     ]
    },
    {
     "name": "stdout",
     "output_type": "stream",
     "text": [
      "Words which are greater than length  4 are ['quick', 'brown', 'jumps']\n"
     ]
    }
   ],
   "source": [
    "    sentence = input(\"Enter a sentence: \")\n",
    "    k = int(input(\"Enter the minimum length (k): \"))\n",
    "    words = sentence.split()\n",
    "    result=[]\n",
    "    for word in words:\n",
    "        if len(word)>k:\n",
    "            result.append(word)\n",
    "    print(\"Words which are greater than length \",k,\"are\",result)\n",
    "        "
   ]
  },
  {
   "cell_type": "markdown",
   "id": "26719cbd",
   "metadata": {},
   "source": [
    "### 2. Write a Python program for removing i-th character from a string?"
   ]
  },
  {
   "cell_type": "code",
   "execution_count": 5,
   "id": "ac51d61c-0fdd-4ff6-92c3-40fdd7f1d3f8",
   "metadata": {},
   "outputs": [
    {
     "name": "stdin",
     "output_type": "stream",
     "text": [
      "Enter a string:  Python Programming\n",
      "Enter the position of the character to remove:  3\n"
     ]
    },
    {
     "name": "stdout",
     "output_type": "stream",
     "text": [
      "String after removing ith character Pyton Programming\n"
     ]
    }
   ],
   "source": [
    "    string = input(\"Enter a string: \")\n",
    "    i = int(input(\"Enter the position of the character to remove: \"))\n",
    "    if i < 0 or i >= len(string):\n",
    "        print(string)\n",
    "    else:\n",
    "        print(\"String after removing ith character\",string[:i]+string[i+1:])"
   ]
  },
  {
   "cell_type": "markdown",
   "id": "51ae6b0f",
   "metadata": {},
   "source": [
    "### 3. Write a Python program to split and join a string?"
   ]
  },
  {
   "cell_type": "code",
   "execution_count": 8,
   "id": "7fa7d353-b61d-4984-afe2-90989f170f81",
   "metadata": {},
   "outputs": [
    {
     "name": "stdin",
     "output_type": "stream",
     "text": [
      "Enter a string:  I love programming in Python!\n"
     ]
    },
    {
     "name": "stdout",
     "output_type": "stream",
     "text": [
      "string after splitting: ['I', 'love', 'programming', 'in', 'Python!']\n",
      "string after joining: I love programming in Python!\n"
     ]
    }
   ],
   "source": [
    "    string = input(\"Enter a string: \")\n",
    "    splited_string=string.split()\n",
    "    joined_string=' '.join(splited_string)\n",
    "    print(\"string after splitting:\",splited_string)\n",
    "    print(\"string after joining:\",joined_string)\n",
    "    "
   ]
  },
  {
   "cell_type": "markdown",
   "id": "59079fe1",
   "metadata": {},
   "source": [
    "### 4. Write a Python to check if a given string is binary string or not?"
   ]
  },
  {
   "cell_type": "code",
   "execution_count": 14,
   "id": "d186f3ae-c7e9-48fa-8cf5-a7876a0a4fa2",
   "metadata": {},
   "outputs": [
    {
     "name": "stdin",
     "output_type": "stream",
     "text": [
      "Enter a string: I love programming in python!\n"
     ]
    },
    {
     "name": "stdout",
     "output_type": "stream",
     "text": [
      "The string is not a binary string.\n"
     ]
    }
   ],
   "source": [
    "def is_binary_string(string):\n",
    "    # Set of valid binary digits\n",
    "    valid_digits = {'0', '1'}\n",
    "\n",
    "    # Check if all characters in the string are valid binary digits\n",
    "    for char in string:\n",
    "        if char not in valid_digits:\n",
    "            return False\n",
    "\n",
    "    return True\n",
    "\n",
    "# Prompt the user to enter a string\n",
    "string = input(\"Enter a string:\")\n",
    "\n",
    "# Check if the string is a binary string\n",
    "is_binary = is_binary_string(string)\n",
    "\n",
    "# Print the result\n",
    "if is_binary:\n",
    "    print(\"The string is a binary string.\")\n",
    "else:\n",
    "    print(\"The string is not a binary string.\")\n"
   ]
  },
  {
   "cell_type": "markdown",
   "id": "4d6cf11a",
   "metadata": {},
   "source": [
    "### 5. Write a Python program to find uncommon words from two Strings?"
   ]
  },
  {
   "cell_type": "code",
   "execution_count": 16,
   "id": "89545db8-fcd5-4498-afcc-0c4b950b1d0d",
   "metadata": {},
   "outputs": [
    {
     "name": "stdout",
     "output_type": "stream",
     "text": [
      "Uncommon word are; {'interesting', 'R', 'Python', 'fun'}\n"
     ]
    }
   ],
   "source": [
    "    string1=\"Python programming is fun\"\n",
    "    string2=\"R programming is interesting\"\n",
    "    words1 = string1.split()\n",
    "    words2 = string2.split()\n",
    "    uncommon_words=set(words1).symmetric_difference(set(words2))\n",
    "    print(\"Uncommon word are;\",uncommon_words)\n"
   ]
  },
  {
   "cell_type": "markdown",
   "id": "e2b24677",
   "metadata": {},
   "source": [
    "### 6. Write a Python to find all duplicate characters in string?"
   ]
  },
  {
   "cell_type": "code",
   "execution_count": 17,
   "id": "f424dea8-c877-4518-b968-b53bf66ab016",
   "metadata": {},
   "outputs": [
    {
     "name": "stdout",
     "output_type": "stream",
     "text": [
      "Duplicates characters ina string: {'m', 'i', 'o', 'r', 'g', 'n', ' '}\n"
     ]
    }
   ],
   "source": [
    "string=\"Python programming is fun\"\n",
    "duplicates=set()\n",
    "seen=set()\n",
    "\n",
    "for char in string:\n",
    "    if char in seen:\n",
    "            duplicates.add(char)\n",
    "    else:\n",
    "        seen.add(char)\n",
    "print(\"Duplicates characters ina string:\",duplicates)"
   ]
  },
  {
   "cell_type": "markdown",
   "id": "1a6af7e4",
   "metadata": {},
   "source": [
    "### 7. Write a Python Program to check if a string contains any special character?"
   ]
  },
  {
   "cell_type": "code",
   "execution_count": 23,
   "id": "d0420c11-c1e0-4dca-b1cc-ff74ef6b2a7d",
   "metadata": {},
   "outputs": [
    {
     "name": "stdout",
     "output_type": "stream",
     "text": [
      "String has special charaters\n"
     ]
    }
   ],
   "source": [
    "Flag=False\n",
    "special_characters = ['!', '@', '#', '$', '%', '^', '&', '*', '(', ')', ',', '.', '?', ':', '{', '}', '|', '<', '>']\n",
    "stri = \"Hello, World! How are you doing?\"\n",
    "for char in stri:\n",
    "    if char in special_characters:\n",
    "        flag=True\n",
    "        break\n",
    "if flag:\n",
    "    print(\"String has special charaters\")        \n",
    "else:\n",
    "    print(\"string does not have any special characters\")"
   ]
  },
  {
   "cell_type": "code",
   "execution_count": null,
   "id": "ea7685cf-f6d7-47ed-8d99-574660c187aa",
   "metadata": {},
   "outputs": [],
   "source": []
  }
 ],
 "metadata": {
  "kernelspec": {
   "display_name": "Python 3 (ipykernel)",
   "language": "python",
   "name": "python3"
  },
  "language_info": {
   "codemirror_mode": {
    "name": "ipython",
    "version": 3
   },
   "file_extension": ".py",
   "mimetype": "text/x-python",
   "name": "python",
   "nbconvert_exporter": "python",
   "pygments_lexer": "ipython3",
   "version": "3.10.6"
  }
 },
 "nbformat": 4,
 "nbformat_minor": 5
}
