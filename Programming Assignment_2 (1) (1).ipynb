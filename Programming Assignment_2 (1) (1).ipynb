{
 "cells": [
  {
   "cell_type": "markdown",
   "id": "08c66ea5",
   "metadata": {
    "id": "08c66ea5"
   },
   "source": [
    "## Programming Assignment_2\n",
    "-------------"
   ]
  },
  {
   "cell_type": "markdown",
   "id": "4e50cf42",
   "metadata": {
    "id": "4e50cf42"
   },
   "source": [
    "1. Write a Python program to convert kilometers to miles?\n"
   ]
  },
  {
   "cell_type": "code",
   "execution_count": 3,
   "id": "662882a6-be6f-4370-bb86-906e935e8220",
   "metadata": {},
   "outputs": [
    {
     "name": "stdin",
     "output_type": "stream",
     "text": [
      "Enter distance (in km) 6\n"
     ]
    },
    {
     "name": "stdout",
     "output_type": "stream",
     "text": [
      "6.0 kilometers is equal to 3.7282260000000003 miles.\n"
     ]
    }
   ],
   "source": [
    "km=float(input(\"Enter distance (in km)\"))\n",
    "miles=km * 0.621371  # Conversion factor: 1 kilometer = 0.621371 miles\n",
    "print(km, \"kilometers is equal to\", miles, \"miles.\")"
   ]
  },
  {
   "cell_type": "markdown",
   "id": "0df4e6bf",
   "metadata": {
    "id": "0df4e6bf"
   },
   "source": [
    "### 2.Write a Python program to convert Celsius to Fahrenheit?"
   ]
  },
  {
   "cell_type": "code",
   "execution_count": 3,
   "id": "104e9faf-a67a-443f-a8a4-093b3f149207",
   "metadata": {},
   "outputs": [
    {
     "name": "stdin",
     "output_type": "stream",
     "text": [
      "Enter temperature (in celsius) 5\n"
     ]
    },
    {
     "name": "stdout",
     "output_type": "stream",
     "text": [
      "5.0 °C celsius to fahrenheit is 41.0 °F\n"
     ]
    }
   ],
   "source": [
    "cl=float(input(\"Enter temperature (in celsius)\"))\n",
    "ft=cl*(9/5)+32\n",
    "print(cl,\"°C\",\"celsius to fahrenheit is\",ft,\"°F\")"
   ]
  },
  {
   "cell_type": "markdown",
   "id": "46129b8e",
   "metadata": {
    "id": "46129b8e"
   },
   "source": [
    "3. Write a Python program to display calendar?\n"
   ]
  },
  {
   "cell_type": "code",
   "execution_count": 4,
   "id": "376eb7aa-681a-4b75-a384-8d86aedee9e6",
   "metadata": {},
   "outputs": [
    {
     "name": "stdout",
     "output_type": "stream",
     "text": [
      "June 2023\n",
      "Mon Tue Wed Thu Fri Sat Sun\n",
      "[0, 0, 0, 1, 2, 3, 4]\n",
      "[5, 6, 7, 8, 9, 10, 11]\n",
      "[12, 13, 14, 15, 16, 17, 18]\n",
      "[19, 20, 21, 22, 23, 24, 25]\n",
      "[26, 27, 28, 29, 30, 0, 0]\n"
     ]
    }
   ],
   "source": [
    "import calendar\n",
    "\n",
    "def display_calendar(year, month):\n",
    "    # Display the calendar for the specified year and month\n",
    "    cal = calendar.monthcalendar(year, month)\n",
    "    print(calendar.month_name[month], year)\n",
    "    print(calendar.weekheader(3))\n",
    "    for week in cal:\n",
    "        print(week)\n",
    "\n",
    "# Example usage\n",
    "year = 2023\n",
    "month = 6\n",
    "display_calendar(year, month)"
   ]
  },
  {
   "cell_type": "markdown",
   "id": "db2bf0f7",
   "metadata": {
    "id": "db2bf0f7"
   },
   "source": [
    "### 4. Write a Python program to solve quadratic equation?"
   ]
  },
  {
   "cell_type": "code",
   "execution_count": 9,
   "id": "467e7dd6-c14f-4099-85cb-cf1aa2d20b6c",
   "metadata": {},
   "outputs": [
    {
     "name": "stdout",
     "output_type": "stream",
     "text": [
      "Root 1: 3.0\n",
      "Root 2: 0.5\n"
     ]
    }
   ],
   "source": [
    "import math\n",
    "\n",
    "def solve_quadratic_equation(a, b, c):\n",
    "    # Calculate the discriminant\n",
    "    discriminant = b**2 - 4*a*c\n",
    "\n",
    "    if discriminant > 0:\n",
    "        # Two real and distinct roots\n",
    "        root1 = (-b + math.sqrt(discriminant)) / (2*a)\n",
    "        root2 = (-b - math.sqrt(discriminant)) / (2*a)\n",
    "        return root1, root2\n",
    "    elif discriminant == 0:\n",
    "        # One real root (repeated root)\n",
    "        root = -b / (2*a)\n",
    "        return root\n",
    "    else:\n",
    "        # Complex roots\n",
    "        real_part = -b / (2*a)\n",
    "        imaginary_part = math.sqrt(abs(discriminant)) / (2*a)\n",
    "        root1 = complex(real_part, imaginary_part)\n",
    "        root2 = complex(real_part, -imaginary_part)\n",
    "        return root1, root2\n",
    "\n",
    "# Example usage\n",
    "a = 2\n",
    "b = -7\n",
    "c = 3\n",
    "roots = solve_quadratic_equation(a, b, c)\n",
    "\n",
    "\n",
    "print(\"Root 1:\", roots[0])\n",
    "print(\"Root 2:\", roots[1])\n"
   ]
  },
  {
   "cell_type": "markdown",
   "id": "f70f74c9",
   "metadata": {
    "id": "f70f74c9"
   },
   "source": [
    "5. Write a Python program to swap two variables without temp variable?"
   ]
  },
  {
   "cell_type": "code",
   "execution_count": 10,
   "id": "79dae050-83e0-4462-a701-aed106aeecdb",
   "metadata": {},
   "outputs": [
    {
     "name": "stdout",
     "output_type": "stream",
     "text": [
      "Before swapping: x = 10 and y = 20\n",
      "After swapping: x = 20 and y = 10\n"
     ]
    }
   ],
   "source": [
    "def swap_variables(a, b):\n",
    "    a, b = b, a\n",
    "    return a, b\n",
    "\n",
    "# Example usage\n",
    "x = 10\n",
    "y = 20\n",
    "print(\"Before swapping: x =\", x, \"and y =\", y)\n",
    "x, y = swap_variables(x, y)\n",
    "print(\"After swapping: x =\", x, \"and y =\", y)"
   ]
  }
 ],
 "metadata": {
  "colab": {
   "provenance": []
  },
  "kernelspec": {
   "display_name": "Python 3 (ipykernel)",
   "language": "python",
   "name": "python3"
  },
  "language_info": {
   "codemirror_mode": {
    "name": "ipython",
    "version": 3
   },
   "file_extension": ".py",
   "mimetype": "text/x-python",
   "name": "python",
   "nbconvert_exporter": "python",
   "pygments_lexer": "ipython3",
   "version": "3.10.6"
  }
 },
 "nbformat": 4,
 "nbformat_minor": 5
}
