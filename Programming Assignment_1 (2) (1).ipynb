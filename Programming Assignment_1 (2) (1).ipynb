{
 "cells": [
  {
   "cell_type": "markdown",
   "id": "637b47a5",
   "metadata": {},
   "source": [
    "## Programming Assignment_1\n",
    "-------------"
   ]
  },
  {
   "cell_type": "markdown",
   "id": "0c647dbe",
   "metadata": {},
   "source": [
    "### 1. Write a Python program to print \"Hello Python\"?"
   ]
  },
  {
   "cell_type": "code",
   "execution_count": 4,
   "id": "293787d3",
   "metadata": {},
   "outputs": [
    {
     "name": "stdout",
     "output_type": "stream",
     "text": [
      "Hello Python\n"
     ]
    }
   ],
   "source": [
    "print(\"Hello Python\")"
   ]
  },
  {
   "cell_type": "markdown",
   "id": "fc18a6cd",
   "metadata": {},
   "source": [
    "### 2. Write a Python program to do arithmetical operations addition and division.?\n"
   ]
  },
  {
   "cell_type": "code",
   "execution_count": 3,
   "id": "a6531140-482a-45af-8c5c-e16450309543",
   "metadata": {},
   "outputs": [
    {
     "name": "stdin",
     "output_type": "stream",
     "text": [
      "Enter a= 5\n",
      "Enter b= 5\n"
     ]
    },
    {
     "name": "stdout",
     "output_type": "stream",
     "text": [
      "10\n",
      "1.0\n"
     ]
    }
   ],
   "source": [
    "a=int(input(\"Enter a=\"))\n",
    "b=int(input(\"Enter b=\"))\n",
    "Sum=a+b\n",
    "Div=a/b\n",
    "print(Sum)\n",
    "print(Div)"
   ]
  },
  {
   "cell_type": "markdown",
   "id": "af6e2429",
   "metadata": {},
   "source": [
    "### 3. Write a Python program to find the area of a triangle?\n"
   ]
  },
  {
   "cell_type": "code",
   "execution_count": 5,
   "id": "5b0d88e7-c442-4b74-a23f-5d42b433a42e",
   "metadata": {},
   "outputs": [
    {
     "name": "stdin",
     "output_type": "stream",
     "text": [
      "Enter first side:  7\n",
      "Enter Second side:  9\n",
      "Enter Third side:  8\n"
     ]
    },
    {
     "name": "stdout",
     "output_type": "stream",
     "text": [
      "The area of the triangle is: 26.832815729997478\n"
     ]
    }
   ],
   "source": [
    "import math\n",
    "def area_triangle():\n",
    "    a=float(input(\"Enter first side: \"))\n",
    "    b=float(input(\"Enter Second side: \"))\n",
    "    c=float(input(\"Enter Third side: \"))\n",
    "    \n",
    "    # Calculate the semi-perimeter\n",
    "    s = (a + b + c) / 2\n",
    "    \n",
    "    # Calculate the area using Heron's formula\n",
    "    area = math.sqrt(s * (s - a) * (s - b) * (s - c))\n",
    "    print(\"The area of the triangle is:\", area)\n",
    "\n",
    "area_triangle()\n",
    "    "
   ]
  },
  {
   "cell_type": "markdown",
   "id": "b8140061",
   "metadata": {},
   "source": [
    "### 4. Write a Python program to swap two variables?\n"
   ]
  },
  {
   "cell_type": "code",
   "execution_count": 4,
   "id": "9bd529aa-434a-4067-9b3c-996045394745",
   "metadata": {},
   "outputs": [
    {
     "name": "stdin",
     "output_type": "stream",
     "text": [
      "Enter first number 2\n",
      "Enter second number 6\n"
     ]
    },
    {
     "name": "stdout",
     "output_type": "stream",
     "text": [
      "2 6\n",
      "6 2\n"
     ]
    }
   ],
   "source": [
    "def swap():\n",
    "    a=int(input(\"Enter first number\"))\n",
    "    b=int(input(\"Enter second number\"))\n",
    "    # numbers before sdwaping\n",
    "    print(a,b)\n",
    "    c=a\n",
    "    a=b\n",
    "    b=c\n",
    "    # numbers after swaping\n",
    "    print(a,b)\n",
    "\n",
    "swap()"
   ]
  },
  {
   "cell_type": "markdown",
   "id": "3f8054c1",
   "metadata": {},
   "source": [
    "### 5. Write a Python program to generate a random number?\n"
   ]
  },
  {
   "cell_type": "code",
   "execution_count": 5,
   "id": "c6ab05a5-f769-403b-84b2-9a02603d2a38",
   "metadata": {},
   "outputs": [
    {
     "name": "stdout",
     "output_type": "stream",
     "text": [
      "Random number: 0.30776362510351307\n"
     ]
    }
   ],
   "source": [
    "import random\n",
    "\n",
    "def generate_random_number():\n",
    "    random_number = random.random()  # Generate a random float between 0 and 1\n",
    "    print(\"Random number:\", random_number)\n",
    "\n",
    "generate_random_number()"
   ]
  }
 ],
 "metadata": {
  "kernelspec": {
   "display_name": "Python 3 (ipykernel)",
   "language": "python",
   "name": "python3"
  },
  "language_info": {
   "codemirror_mode": {
    "name": "ipython",
    "version": 3
   },
   "file_extension": ".py",
   "mimetype": "text/x-python",
   "name": "python",
   "nbconvert_exporter": "python",
   "pygments_lexer": "ipython3",
   "version": "3.10.6"
  }
 },
 "nbformat": 4,
 "nbformat_minor": 5
}
