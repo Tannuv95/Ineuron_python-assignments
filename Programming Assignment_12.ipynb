{
 "cells": [
  {
   "cell_type": "markdown",
   "id": "b7231b20",
   "metadata": {},
   "source": [
    "# Python Basic Programming Assignment 12\n",
    "-------------"
   ]
  },
  {
   "cell_type": "markdown",
   "id": "d2ec324d",
   "metadata": {},
   "source": [
    "### 1. Write a Python program to Extract Unique values dictionary values?"
   ]
  },
  {
   "cell_type": "code",
   "execution_count": 1,
   "id": "2ac8c61d-9089-4ef7-a23b-5ffb85265d46",
   "metadata": {},
   "outputs": [
    {
     "name": "stdout",
     "output_type": "stream",
     "text": [
      "Unique values of dictionary: [0, 1, 2, 4, 5, 6, 8, 9]\n"
     ]
    }
   ],
   "source": [
    "my_dict = {'A': [1, 5, 8, 9, 4], 'B': [5, 9], 'C': [6, 9, 0, 2]}\n",
    "res = set()\n",
    "\n",
    "for val in my_dict.values():\n",
    "    res.update(val)\n",
    "\n",
    "print(\"Unique values of dictionary:\", list(res))\n"
   ]
  },
  {
   "cell_type": "markdown",
   "id": "203bcbc3",
   "metadata": {},
   "source": [
    "### 2. Write a Python program to find the sum of all items in a dictionary?"
   ]
  },
  {
   "cell_type": "code",
   "execution_count": 9,
   "id": "b06b2b7e-5600-438e-b4ef-607d1ed60f32",
   "metadata": {},
   "outputs": [
    {
     "name": "stdout",
     "output_type": "stream",
     "text": [
      "sum of values of dictionary: 58\n"
     ]
    }
   ],
   "source": [
    "sum_of_items = 0\n",
    "for values in my_dict.values():\n",
    "    sum_of_items += sum(values)\n",
    "\n",
    "print(\"sum of values of dictionary:\",sum_of_items)"
   ]
  },
  {
   "cell_type": "markdown",
   "id": "edfbc682",
   "metadata": {},
   "source": [
    "### 3. Write a Python program to Merging two Dictionaries?"
   ]
  },
  {
   "cell_type": "code",
   "execution_count": 10,
   "id": "fcb92d58-2bde-4803-af0f-084bd2d2faa3",
   "metadata": {},
   "outputs": [
    {
     "name": "stdout",
     "output_type": "stream",
     "text": [
      "Merged dictionary: {'A': 1, 'B': 2, 'C': 3, 'D': 4}\n"
     ]
    }
   ],
   "source": [
    "dict1 = {'A': 1, 'B': 2}\n",
    "dict2 = {'C': 3, 'D': 4}\n",
    "\n",
    "merged_dict = dict1.copy()\n",
    "merged_dict.update(dict2)\n",
    "\n",
    "print(\"Merged dictionary:\", merged_dict)\n"
   ]
  },
  {
   "cell_type": "markdown",
   "id": "62eaf687",
   "metadata": {},
   "source": [
    "### 4. Write a Python program to convert key-values list to flat dictionary?"
   ]
  },
  {
   "cell_type": "code",
   "execution_count": 11,
   "id": "339a3838-d2c3-472f-980c-82871224bedd",
   "metadata": {},
   "outputs": [
    {
     "name": "stdout",
     "output_type": "stream",
     "text": [
      "Flat dictionary: {'A': 1, 'B': 2, 'C': 3, 'D': 4}\n"
     ]
    }
   ],
   "source": [
    "key_value_list = [('A', 1), ('B', 2), ('C', 3), ('D', 4)]\n",
    "\n",
    "flat_dict = {}\n",
    "for key, value in key_value_list:\n",
    "    flat_dict[key] = value\n",
    "\n",
    "print(\"Flat dictionary:\", flat_dict)\n"
   ]
  },
  {
   "cell_type": "markdown",
   "id": "fcc5015f",
   "metadata": {},
   "source": [
    "### 5. Write a Python program to insertion at the beginning in OrderedDict?"
   ]
  },
  {
   "cell_type": "code",
   "execution_count": 22,
   "id": "c18d8a3e-75f2-447a-b9ae-740ffa9a0d7c",
   "metadata": {},
   "outputs": [
    {
     "name": "stdout",
     "output_type": "stream",
     "text": [
      "OrderedDict after insertion: OrderedDict([('X', 10), ('A', 1), ('B', 2), ('C', 3)])\n"
     ]
    }
   ],
   "source": [
    "from collections import OrderedDict\n",
    "\n",
    "ordered_dict = OrderedDict([('A', 1), ('B', 2), ('C', 3)])\n",
    "\n",
    "# Inserting item at the beginning\n",
    "ordered_dict.update(OrderedDict([('X', 10)]))\n",
    "ordered_dict.move_to_end('X', last=False)\n",
    "\n",
    "print(\"OrderedDict after insertion:\", ordered_dict)"
   ]
  },
  {
   "cell_type": "markdown",
   "id": "5978c9ab",
   "metadata": {},
   "source": [
    "### 6. Write a Python program to check order of character in string using OrderedDict()?"
   ]
  },
  {
   "cell_type": "code",
   "execution_count": null,
   "id": "d763f122-6966-4ba4-946a-00d5169507a4",
   "metadata": {},
   "outputs": [],
   "source": [
    "Doubt"
   ]
  },
  {
   "cell_type": "markdown",
   "id": "f330da77",
   "metadata": {},
   "source": [
    "### 7. Write a Python program to sort Python Dictionaries by Key or Value?"
   ]
  },
  {
   "cell_type": "code",
   "execution_count": 24,
   "id": "e08e0d9c-ba4b-4986-bf41-1c5694ce612a",
   "metadata": {},
   "outputs": [
    {
     "name": "stdout",
     "output_type": "stream",
     "text": [
      "Dictionary sorted by key (ascending): {'A': 10, 'B': 7, 'C': 2, 'D': 3, 'Z': 5}\n",
      "Dictionary sorted by value (ascending): {'C': 2, 'D': 3, 'Z': 5, 'B': 7, 'A': 10}\n"
     ]
    }
   ],
   "source": [
    "my_dict = {'Z': 5, 'A': 10, 'D': 3, 'B': 7, 'C': 2}\n",
    "\n",
    "# Sort dictionary by key in ascending order\n",
    "sorted_by_key = dict(sorted(my_dict.items()))\n",
    "\n",
    "print(\"Dictionary sorted by key (ascending):\", sorted_by_key)\n",
    "\n",
    "# Sort dictionary by value in ascending order\n",
    "sorted_by_value = dict(sorted(my_dict.items(), key=lambda x: x[1]))\n",
    "\n",
    "print(\"Dictionary sorted by value (ascending):\", sorted_by_value)\n"
   ]
  },
  {
   "cell_type": "code",
   "execution_count": null,
   "id": "c5b56c0b-d896-4028-a961-d0b3c91338b7",
   "metadata": {},
   "outputs": [],
   "source": []
  }
 ],
 "metadata": {
  "kernelspec": {
   "display_name": "Python 3 (ipykernel)",
   "language": "python",
   "name": "python3"
  },
  "language_info": {
   "codemirror_mode": {
    "name": "ipython",
    "version": 3
   },
   "file_extension": ".py",
   "mimetype": "text/x-python",
   "name": "python",
   "nbconvert_exporter": "python",
   "pygments_lexer": "ipython3",
   "version": "3.10.6"
  }
 },
 "nbformat": 4,
 "nbformat_minor": 5
}
